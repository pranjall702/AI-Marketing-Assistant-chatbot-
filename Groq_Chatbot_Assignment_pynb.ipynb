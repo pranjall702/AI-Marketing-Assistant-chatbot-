{
  "nbformat": 4,
  "nbformat_minor": 0,
  "metadata": {
    "colab": {
      "provenance": [],
      "authorship_tag": "ABX9TyOKSyu/2HYr6sZE7f2oAt2a",
      "include_colab_link": true
    },
    "kernelspec": {
      "name": "python3",
      "display_name": "Python 3"
    },
    "language_info": {
      "name": "python"
    }
  },
  "cells": [
    {
      "cell_type": "markdown",
      "metadata": {
        "id": "view-in-github",
        "colab_type": "text"
      },
      "source": [
        "<a href=\"https://colab.research.google.com/github/pranjall702/AI-Marketing-Assistant-chatbot-/blob/main/Groq_Chatbot_Assignment_pynb.ipynb\" target=\"_parent\"><img src=\"https://colab.research.google.com/assets/colab-badge.svg\" alt=\"Open In Colab\"/></a>"
      ]
    },
    {
      "cell_type": "code",
      "source": [
        "!pip uninstall -y openai\n",
        "!pip install openai==0.28\n"
      ],
      "metadata": {
        "colab": {
          "base_uri": "https://localhost:8080/"
        },
        "id": "y8TtBhcHtXL7",
        "outputId": "afed4368-8558-4b35-9667-a618faff02bb"
      },
      "execution_count": 1,
      "outputs": [
        {
          "output_type": "stream",
          "name": "stdout",
          "text": [
            "Found existing installation: openai 0.28.0\n",
            "Uninstalling openai-0.28.0:\n",
            "  Successfully uninstalled openai-0.28.0\n",
            "Collecting openai==0.28\n",
            "  Using cached openai-0.28.0-py3-none-any.whl.metadata (13 kB)\n",
            "Requirement already satisfied: requests>=2.20 in /usr/local/lib/python3.12/dist-packages (from openai==0.28) (2.32.4)\n",
            "Requirement already satisfied: tqdm in /usr/local/lib/python3.12/dist-packages (from openai==0.28) (4.67.1)\n",
            "Requirement already satisfied: aiohttp in /usr/local/lib/python3.12/dist-packages (from openai==0.28) (3.12.15)\n",
            "Requirement already satisfied: charset_normalizer<4,>=2 in /usr/local/lib/python3.12/dist-packages (from requests>=2.20->openai==0.28) (3.4.3)\n",
            "Requirement already satisfied: idna<4,>=2.5 in /usr/local/lib/python3.12/dist-packages (from requests>=2.20->openai==0.28) (3.10)\n",
            "Requirement already satisfied: urllib3<3,>=1.21.1 in /usr/local/lib/python3.12/dist-packages (from requests>=2.20->openai==0.28) (2.5.0)\n",
            "Requirement already satisfied: certifi>=2017.4.17 in /usr/local/lib/python3.12/dist-packages (from requests>=2.20->openai==0.28) (2025.8.3)\n",
            "Requirement already satisfied: aiohappyeyeballs>=2.5.0 in /usr/local/lib/python3.12/dist-packages (from aiohttp->openai==0.28) (2.6.1)\n",
            "Requirement already satisfied: aiosignal>=1.4.0 in /usr/local/lib/python3.12/dist-packages (from aiohttp->openai==0.28) (1.4.0)\n",
            "Requirement already satisfied: attrs>=17.3.0 in /usr/local/lib/python3.12/dist-packages (from aiohttp->openai==0.28) (25.3.0)\n",
            "Requirement already satisfied: frozenlist>=1.1.1 in /usr/local/lib/python3.12/dist-packages (from aiohttp->openai==0.28) (1.7.0)\n",
            "Requirement already satisfied: multidict<7.0,>=4.5 in /usr/local/lib/python3.12/dist-packages (from aiohttp->openai==0.28) (6.6.4)\n",
            "Requirement already satisfied: propcache>=0.2.0 in /usr/local/lib/python3.12/dist-packages (from aiohttp->openai==0.28) (0.3.2)\n",
            "Requirement already satisfied: yarl<2.0,>=1.17.0 in /usr/local/lib/python3.12/dist-packages (from aiohttp->openai==0.28) (1.20.1)\n",
            "Requirement already satisfied: typing-extensions>=4.2 in /usr/local/lib/python3.12/dist-packages (from aiosignal>=1.4.0->aiohttp->openai==0.28) (4.15.0)\n",
            "Using cached openai-0.28.0-py3-none-any.whl (76 kB)\n",
            "Installing collected packages: openai\n",
            "Successfully installed openai-0.28.0\n"
          ]
        }
      ]
    },
    {
      "cell_type": "code",
      "source": [
        "from getpass import getpass\n",
        "import os\n",
        "import openai\n",
        "\n",
        "# Securely input Groq API Key\n",
        "api_key = getpass(\"Enter your Groq API Key: \")\n",
        "\n",
        "os.environ[\"GROQ_API_KEY\"] = api_key\n",
        "openai.api_key = os.environ[\"GROQ_API_KEY\"]\n",
        "\n",
        "# Groq endpoint\n",
        "openai.api_base = \"https://api.groq.com/openai/v1\"\n",
        "\n",
        "# ✅ Supported model (updated replacement for llama3-70b-8192)\n",
        "MODEL = \"llama-3.3-70b-versatile\"\n",
        "\n",
        "print(\"Groq API setup complete!\")\n"
      ],
      "metadata": {
        "colab": {
          "base_uri": "https://localhost:8080/"
        },
        "id": "RknwBclEtd71",
        "outputId": "331a08b2-7cea-448e-8be1-2670906938f9"
      },
      "execution_count": 2,
      "outputs": [
        {
          "output_type": "stream",
          "name": "stdout",
          "text": [
            "Enter your Groq API Key: ··········\n",
            "Groq API setup complete!\n"
          ]
        }
      ]
    },
    {
      "cell_type": "code",
      "source": [
        "# Quick test to verify setup\n",
        "response = openai.ChatCompletion.create(\n",
        "    model=MODEL,\n",
        "    messages=[{\"role\": \"user\", \"content\": \"Hello Groq! How are you today?\"}]\n",
        ")\n",
        "\n",
        "print(\"Groq says:\", response[\"choices\"][0][\"message\"][\"content\"])\n"
      ],
      "metadata": {
        "colab": {
          "base_uri": "https://localhost:8080/"
        },
        "id": "R1SJ_f9Atd_E",
        "outputId": "6191e9e2-ee47-4096-e8c7-ef3bae73c16d"
      },
      "execution_count": 3,
      "outputs": [
        {
          "output_type": "stream",
          "name": "stdout",
          "text": [
            "Groq says: Hello, I'm not actually Groq, but I'll do my best to help you with any questions or topics you'd like to discuss. I don't have feelings or emotions, but I'm functioning properly and ready to assist you. How can I help you today?\n"
          ]
        }
      ]
    },
    {
      "cell_type": "code",
      "source": [
        "conversation_history = []  # Store all messages here\n",
        "k = 3  # Summarize after every 3 turns\n",
        "\n",
        "def chat_with_groq(user_input):\n",
        "    # Append user input\n",
        "    conversation_history.append({\"role\": \"user\", \"content\": user_input})\n",
        "\n",
        "    # Call Groq API\n",
        "    response = openai.ChatCompletion.create(\n",
        "        model=MODEL,\n",
        "        messages=conversation_history\n",
        "    )\n",
        "\n",
        "    reply = response[\"choices\"][0][\"message\"][\"content\"]\n",
        "\n",
        "    # Append assistant's response\n",
        "    conversation_history.append({\"role\": \"assistant\", \"content\": reply})\n",
        "\n",
        "    return reply\n"
      ],
      "metadata": {
        "id": "-WP2qrPZteCP"
      },
      "execution_count": 4,
      "outputs": []
    },
    {
      "cell_type": "code",
      "source": [
        "while True:\n",
        "    user_input = input(\"You: \")\n",
        "    if user_input.lower() in [\"exit\", \"quit\"]:\n",
        "        print(\"Chat ended.\")\n",
        "        break\n",
        "\n",
        "    bot_reply = chat_with_groq(user_input)\n",
        "    print(\"Bot:\", bot_reply)\n",
        "\n",
        "    # Summarize after every k interactions\n",
        "    if len(conversation_history) // 2 % k == 0:  # divide by 2 because user+bot = 2 messages\n",
        "        print(\"\\n--- Summary after\", k, \"turns ---\")\n",
        "        summary = openai.ChatCompletion.create(\n",
        "            model=MODEL,\n",
        "            messages=[\n",
        "                {\"role\": \"system\", \"content\": \"Summarize this conversation briefly.\"},\n",
        "                {\"role\": \"user\", \"content\": str(conversation_history)}\n",
        "            ]\n",
        "        )\n",
        "        print(summary[\"choices\"][0][\"message\"][\"content\"])\n",
        "        print(\"------------------------------\\n\")\n"
      ],
      "metadata": {
        "colab": {
          "base_uri": "https://localhost:8080/"
        },
        "id": "etvUV1u1teFp",
        "outputId": "52f392a5-4c71-4327-c7f2-e6a3a37c0ca9"
      },
      "execution_count": null,
      "outputs": [
        {
          "output_type": "stream",
          "name": "stdout",
          "text": [
            "You: hello\n",
            "Bot: Hello again! We were just discussing studying and I told you a joke. What's new? Want to talk more about college life, or perhaps hear another joke?\n",
            "You: tell me one more joke\n",
            "Bot: Here's another one:\n",
            "\n",
            "Why couldn't the bicycle stand up by itself?\n",
            "\n",
            "Think you know the answer?\n",
            "\n",
            "Because it was **two-tired**!\n",
            "\n",
            "Hope that one didn't fall flat! Do you want to hear another?\n",
            "You: how can one should stay determined towards their goal?\n",
            "Bot: Staying determined towards your goals requires a combination of mindset, strategies, and habits. Here are some tips to help you stay on track:\n",
            "\n",
            "1. **Set clear and specific goals**: Define what you want to achieve and make sure your goals are measurable, achievable, relevant, and time-bound (SMART).\n",
            "2. **Break down big goals into smaller ones**: Divide your long-term goals into smaller, manageable tasks to help you stay focused and motivated.\n",
            "3. **Create a schedule and stick to it**: Plan out your day, week, or month, and allocate specific times for working on your goals.\n",
            "4. **Track your progress**: Keep a journal, spreadsheet, or use an app to monitor your progress, identify patterns, and make adjustments as needed.\n",
            "5. **Find your why**: Connect with the reasons behind your goals and remind yourself why achieving them is important to you.\n",
            "6. **Build a support network**: Surround yourself with people who believe in you and your goals, and who can provide encouragement and accountability.\n",
            "7. **Celebrate small wins**: Acknowledge and celebrate your small victories along the way to stay motivated and encouraged.\n",
            "8. **Stay positive and focused**: Maintain a positive mindset, and remind yourself that setbacks are a natural part of the journey.\n",
            "9. **Be kind to yourself**: Don't be too hard on yourself when you encounter obstacles or make mistakes. Instead, learn from them and move forward.\n",
            "10. **Stay accountable**: Share your goals and progress with a friend or mentor and ask them to hold you accountable.\n",
            "\n",
            "Additionally, here are some mindset shifts to help you stay determined:\n",
            "\n",
            "* **Believe in yourself**: Trust that you have the ability to achieve your goals.\n",
            "* **Stay curious**: Be open to learning and exploring new ideas and strategies.\n",
            "* **Be resilient**: Develop a growth mindset and see challenges as opportunities for growth.\n",
            "* **Focus on the process, not just the outcome**: Enjoy the journey, learn from it, and appreciate the progress you're making.\n",
            "\n",
            "Some popular techniques to stay determined include:\n",
            "\n",
            "* **Pomodoro Technique**: Work in focused 25-minute increments, followed by a 5-minute break.\n",
            "* **Vision boards**: Create a visual representation of your goals to help you stay focused and motivated.\n",
            "* **Accountability partner**: Find someone who shares similar goals and schedule regular check-ins to stay motivated and accountable.\n",
            "* **Reward system**: Set up a system of rewards for achieving milestones or completing challenging tasks.\n",
            "\n",
            "Remember, staying determined is a journey, and it's normal to encounter setbacks and obstacles. But with the right mindset, strategies, and habits, you can stay on track and achieve your goals.\n",
            "\n",
            "What's your current goal, and what's been helping you stay determined so far?\n",
            "\n",
            "--- Summary after 3 turns ---\n",
            "This conversation started with a greeting, followed by a discussion about the ideal number of study hours for a college student. The assistant provided general guidelines and tips for effective studying. The conversation then took a break with a joke, and the user asked for another joke. After that, the user asked for advice on how to stay determined towards their goals, and the assistant provided a comprehensive list of tips, strategies, and mindset shifts to help achieve goals.\n",
            "------------------------------\n",
            "\n"
          ]
        }
      ]
    }
  ]
}